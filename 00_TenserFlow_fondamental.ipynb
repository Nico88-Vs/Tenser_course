{
  "nbformat": 4,
  "nbformat_minor": 0,
  "metadata": {
    "colab": {
      "provenance": [],
      "gpuType": "T4",
      "authorship_tag": "ABX9TyPCh27GjN9UKmINZupnFylG",
      "include_colab_link": true
    },
    "kernelspec": {
      "name": "python3",
      "display_name": "Python 3"
    },
    "language_info": {
      "name": "python"
    },
    "accelerator": "GPU"
  },
  "cells": [
    {
      "cell_type": "markdown",
      "metadata": {
        "id": "view-in-github",
        "colab_type": "text"
      },
      "source": [
        "<a href=\"https://colab.research.google.com/github/Nico88-Vs/Tenser_course/blob/main/00_TenserFlow_fondamental.ipynb\" target=\"_parent\"><img src=\"https://colab.research.google.com/assets/colab-badge.svg\" alt=\"Open In Colab\"/></a>"
      ]
    },
    {
      "cell_type": "code",
      "source": [
        "#Import Tenserflow\n",
        "\n",
        "import tensorflow as tf\n"
      ],
      "metadata": {
        "id": "ItSb9OwW_i3L"
      },
      "execution_count": 1,
      "outputs": []
    },
    {
      "cell_type": "markdown",
      "source": [
        "Key points :\n",
        "* introduction  to tensor\n",
        "* getting info from tensor\n",
        "* manipulating tensor\n",
        "* using @tf.funcion (speeding up python funcion)\n",
        "* using gpu or tpu in tensorflow\n",
        "  "
      ],
      "metadata": {
        "id": "GiVX2JOYAQYP"
      }
    },
    {
      "cell_type": "code",
      "source": [
        "print(tf.__version__)"
      ],
      "metadata": {
        "id": "rFvOUo1lBUcu",
        "colab": {
          "base_uri": "https://localhost:8080/"
        },
        "outputId": "6950662a-d8dc-46cb-cbbc-d4893e415d3f"
      },
      "execution_count": 2,
      "outputs": [
        {
          "output_type": "stream",
          "name": "stdout",
          "text": [
            "2.12.0\n"
          ]
        }
      ]
    },
    {
      "cell_type": "code",
      "source": [
        "# creating tensor with tf.constant() >>> arlady existing in pckes  >>>>>>>>>>>>>>>>>>>>>>>>>>>>>>> SCALAR\n",
        "scalar = tf.constant(7)\n",
        "scalar"
      ],
      "metadata": {
        "colab": {
          "base_uri": "https://localhost:8080/"
        },
        "id": "nFjuaH0-CDm5",
        "outputId": "3a28df64-1604-4b23-91ae-44ccfe2ae212"
      },
      "execution_count": 3,
      "outputs": [
        {
          "output_type": "execute_result",
          "data": {
            "text/plain": [
              "<tf.Tensor: shape=(), dtype=int32, numpy=7>"
            ]
          },
          "metadata": {},
          "execution_count": 3
        }
      ]
    },
    {
      "cell_type": "code",
      "source": [
        "# check the number of dimension (tensor) .ndim\n",
        "scalar.ndim"
      ],
      "metadata": {
        "colab": {
          "base_uri": "https://localhost:8080/"
        },
        "id": "PtBDtlNtDbWw",
        "outputId": "a8504139-0116-44a6-8709-71cbbf347adc"
      },
      "execution_count": 4,
      "outputs": [
        {
          "output_type": "execute_result",
          "data": {
            "text/plain": [
              "0"
            ]
          },
          "metadata": {},
          "execution_count": 4
        }
      ]
    },
    {
      "cell_type": "code",
      "source": [
        "#creating a vector >>>>>>>>>>>>>>>>>>>>>>>>>>>>>>> VECTOR\n",
        "vector = tf.constant([10,10])\n",
        "vector"
      ],
      "metadata": {
        "colab": {
          "base_uri": "https://localhost:8080/"
        },
        "id": "PAFiQDWGDrGm",
        "outputId": "537cef3c-6a5e-495a-8597-a2007ea1acaf"
      },
      "execution_count": 5,
      "outputs": [
        {
          "output_type": "execute_result",
          "data": {
            "text/plain": [
              "<tf.Tensor: shape=(2,), dtype=int32, numpy=array([10, 10], dtype=int32)>"
            ]
          },
          "metadata": {},
          "execution_count": 5
        }
      ]
    },
    {
      "cell_type": "code",
      "source": [
        "# check dimension of vector\n",
        "vector.ndim"
      ],
      "metadata": {
        "colab": {
          "base_uri": "https://localhost:8080/"
        },
        "id": "m-WCEDXsEBmG",
        "outputId": "7aaae5ce-a5a7-49a4-e93b-d518d84bd4e0"
      },
      "execution_count": 6,
      "outputs": [
        {
          "output_type": "execute_result",
          "data": {
            "text/plain": [
              "1"
            ]
          },
          "metadata": {},
          "execution_count": 6
        }
      ]
    },
    {
      "cell_type": "code",
      "source": [
        "from numpy.matrixlib.defmatrix import matrix\n",
        "# create a metrix (piu di una dimensione)\n",
        "matrix = tf.constant([[10,7], [7,10]])\n",
        "matrix"
      ],
      "metadata": {
        "colab": {
          "base_uri": "https://localhost:8080/"
        },
        "id": "oD-aHGYSEMuF",
        "outputId": "97c23acb-280a-4ed5-c0ad-6290cd4cf67d"
      },
      "execution_count": 7,
      "outputs": [
        {
          "output_type": "execute_result",
          "data": {
            "text/plain": [
              "<tf.Tensor: shape=(2, 2), dtype=int32, numpy=\n",
              "array([[10,  7],\n",
              "       [ 7, 10]], dtype=int32)>"
            ]
          },
          "metadata": {},
          "execution_count": 7
        }
      ]
    },
    {
      "cell_type": "code",
      "source": [
        "matrix.ndim"
      ],
      "metadata": {
        "colab": {
          "base_uri": "https://localhost:8080/"
        },
        "id": "lV9WfaweEh1F",
        "outputId": "d2013e5c-ba97-41ce-b97e-5af5b0d48527"
      },
      "execution_count": 8,
      "outputs": [
        {
          "output_type": "execute_result",
          "data": {
            "text/plain": [
              "2"
            ]
          },
          "metadata": {},
          "execution_count": 8
        }
      ]
    },
    {
      "cell_type": "code",
      "source": [
        "#create another metrix >> dot for float  >>>>>>>>>>>>>>>>>>>>>>>>>>>>>>> METRIX\n",
        "another_matrix = tf.constant([[10.,2.], [11.,12.],[13.,11.]], dtype=tf.float16) # d type specicato (int32 defoult precision)\n",
        "another_matrix"
      ],
      "metadata": {
        "colab": {
          "base_uri": "https://localhost:8080/"
        },
        "id": "FkX_aC8CE19c",
        "outputId": "157853bc-68ab-4450-8eb0-d746d7ef9cf7"
      },
      "execution_count": 9,
      "outputs": [
        {
          "output_type": "execute_result",
          "data": {
            "text/plain": [
              "<tf.Tensor: shape=(3, 2), dtype=float16, numpy=\n",
              "array([[10.,  2.],\n",
              "       [11., 12.],\n",
              "       [13., 11.]], dtype=float16)>"
            ]
          },
          "metadata": {},
          "execution_count": 9
        }
      ]
    },
    {
      "cell_type": "code",
      "source": [
        "# quant e la dimensione di another ??? 2 >>> numero di elemnti nella shape!!! >>>> row culoms and more ..... numero delle dimensioni\n",
        "another_matrix.ndim"
      ],
      "metadata": {
        "colab": {
          "base_uri": "https://localhost:8080/"
        },
        "id": "63tonv0nFjp3",
        "outputId": "121967f4-643e-45e6-c538-e907d780c717"
      },
      "execution_count": 10,
      "outputs": [
        {
          "output_type": "execute_result",
          "data": {
            "text/plain": [
              "2"
            ]
          },
          "metadata": {},
          "execution_count": 10
        }
      ]
    },
    {
      "cell_type": "code",
      "source": [
        "#creamo un vero tensor >>>>>>>>>>>>>>>>>>>>>>>>>>>>>>> TENSOR\n",
        "tensor = tf.constant([[[1,2,3,], [1,2,3]],\n",
        "  [[1,2,3],[1,2,3]],\n",
        "  [[1,2,3],[1,2,3]]])\n",
        "tensor\n"
      ],
      "metadata": {
        "colab": {
          "base_uri": "https://localhost:8080/"
        },
        "id": "i5L3yrrMGPsc",
        "outputId": "11fe711f-7cac-405e-c805-3d005ca0cc8b"
      },
      "execution_count": 11,
      "outputs": [
        {
          "output_type": "execute_result",
          "data": {
            "text/plain": [
              "<tf.Tensor: shape=(3, 2, 3), dtype=int32, numpy=\n",
              "array([[[1, 2, 3],\n",
              "        [1, 2, 3]],\n",
              "\n",
              "       [[1, 2, 3],\n",
              "        [1, 2, 3]],\n",
              "\n",
              "       [[1, 2, 3],\n",
              "        [1, 2, 3]]], dtype=int32)>"
            ]
          },
          "metadata": {},
          "execution_count": 11
        }
      ]
    },
    {
      "cell_type": "code",
      "source": [
        "tensor.ndim"
      ],
      "metadata": {
        "colab": {
          "base_uri": "https://localhost:8080/"
        },
        "id": "wzxKGBiQHXxl",
        "outputId": "d0d9381a-ed99-4c47-ab9b-19430e7ae435"
      },
      "execution_count": 12,
      "outputs": [
        {
          "output_type": "execute_result",
          "data": {
            "text/plain": [
              "3"
            ]
          },
          "metadata": {},
          "execution_count": 12
        }
      ]
    },
    {
      "cell_type": "markdown",
      "source": [
        "RECAP:\n",
        "\n",
        "*   Scalar : grandezza scalare\n",
        "*   Vector : grandezza bi_dimensionale ( speed with direction)\n",
        "*   Metrix : array bi_dimensionale\n",
        "*   Tensor : n-dimentional array\n",
        "\n"
      ],
      "metadata": {
        "id": "9r3BGiBmIGsf"
      }
    },
    {
      "cell_type": "markdown",
      "source": [
        "### Utilizzo di variabile anziche costante 'tf.variable'"
      ],
      "metadata": {
        "id": "PR4i4emuJBSz"
      }
    },
    {
      "cell_type": "code",
      "source": [
        "# Creating a changable tensor\n",
        "changable_tensor = tf.Variable([10,7])\n",
        "unchangable_tensor = tf.constant([10,7])\n",
        "changable_tensor , unchangable_tensor"
      ],
      "metadata": {
        "colab": {
          "base_uri": "https://localhost:8080/"
        },
        "id": "qXfTFAd4J3N8",
        "outputId": "6556ff0c-2c2d-4dda-a7ca-04de87ffb1af"
      },
      "execution_count": 13,
      "outputs": [
        {
          "output_type": "execute_result",
          "data": {
            "text/plain": [
              "(<tf.Variable 'Variable:0' shape=(2,) dtype=int32, numpy=array([10,  7], dtype=int32)>,\n",
              " <tf.Tensor: shape=(2,), dtype=int32, numpy=array([10,  7], dtype=int32)>)"
            ]
          },
          "metadata": {},
          "execution_count": 13
        }
      ]
    },
    {
      "cell_type": "code",
      "source": [
        "# try to change changable tensor using index\n",
        "# changable_tensor[0] = 7 ERROR\n",
        "changable_tensor[0].assign(7)\n",
        "changable_tensor"
      ],
      "metadata": {
        "colab": {
          "base_uri": "https://localhost:8080/"
        },
        "id": "imNt_2N0KWjO",
        "outputId": "92efef56-3419-4be4-c1ce-207552417d83"
      },
      "execution_count": 14,
      "outputs": [
        {
          "output_type": "execute_result",
          "data": {
            "text/plain": [
              "<tf.Variable 'Variable:0' shape=(2,) dtype=int32, numpy=array([7, 7], dtype=int32)>"
            ]
          },
          "metadata": {},
          "execution_count": 14
        }
      ]
    },
    {
      "cell_type": "code",
      "source": [
        "# try to change Un_changable tensor using index\n",
        "# unchangable_tensor[0] = 7 ERROR\n",
        "# unchangable_tensor[0].assign(7) >>>>> non esiste ASSIGN\n",
        "unchangable_tensor"
      ],
      "metadata": {
        "colab": {
          "base_uri": "https://localhost:8080/"
        },
        "id": "RwLqMo96LIvX",
        "outputId": "7bb67794-d8cc-44c4-8fdd-05fa1b80c9a1"
      },
      "execution_count": 15,
      "outputs": [
        {
          "output_type": "execute_result",
          "data": {
            "text/plain": [
              "<tf.Tensor: shape=(2,), dtype=int32, numpy=array([10,  7], dtype=int32)>"
            ]
          },
          "metadata": {},
          "execution_count": 15
        }
      ]
    },
    {
      "cell_type": "markdown",
      "source": [
        "### creating random tensor\n",
        "random tensor is a tansor of some arbitrary size wich contain random numbers"
      ],
      "metadata": {
        "id": "9fDjnXQWPgUs"
      }
    },
    {
      "cell_type": "code",
      "source": [
        "# used at beginning to appresentate first output CREATION >>>>>> seed collega un riferimento ... X ....\n",
        "random_1 = tf.random.Generator.from_seed(42) #set seed for reproducibility\n",
        "random_1 = random_1.normal(shape = (3,2)) # normal distribution\n",
        "random_2 = tf.random.Generator.from_seed(42) #set seed for reproducibility\n",
        "random_2 = random_2.normal(shape = (3,2)) # normal distribution\n",
        "random_1 == random_2\n"
      ],
      "metadata": {
        "colab": {
          "base_uri": "https://localhost:8080/"
        },
        "id": "pjZizqsDPsUU",
        "outputId": "1f87018f-5792-4742-f2c0-8360762d0cc2"
      },
      "execution_count": 16,
      "outputs": [
        {
          "output_type": "execute_result",
          "data": {
            "text/plain": [
              "<tf.Tensor: shape=(3, 2), dtype=bool, numpy=\n",
              "array([[ True,  True],\n",
              "       [ True,  True],\n",
              "       [ True,  True]])>"
            ]
          },
          "metadata": {},
          "execution_count": 16
        }
      ]
    },
    {
      "cell_type": "markdown",
      "source": [
        "### Shuffle the order of elemnt in a tensor"
      ],
      "metadata": {
        "id": "sJofOAMsRzOF"
      }
    },
    {
      "cell_type": "code",
      "source": [
        "# to avoid NN miss learn by a starting sequence\n",
        "not_shufled = tf.constant([[10,7],[11,8],[5,6]])\n",
        "# shuffle our tensor\n",
        "tf.random.shuffle(not_shufled)"
      ],
      "metadata": {
        "colab": {
          "base_uri": "https://localhost:8080/"
        },
        "id": "gBW6PQi1TFzn",
        "outputId": "05906c26-a755-4d8a-cbb9-d18f99df5691"
      },
      "execution_count": 17,
      "outputs": [
        {
          "output_type": "execute_result",
          "data": {
            "text/plain": [
              "<tf.Tensor: shape=(3, 2), dtype=int32, numpy=\n",
              "array([[ 5,  6],\n",
              "       [11,  8],\n",
              "       [10,  7]], dtype=int32)>"
            ]
          },
          "metadata": {},
          "execution_count": 17
        }
      ]
    },
    {
      "cell_type": "code",
      "source": [
        "from operator import not_\n",
        "# if we set a seed shuffle seems referred to a \"seme\" therefore never change\n",
        "tf.random.set_seed(42) #gloal seed as envoirment variable in random generation\n",
        "tf.random.shuffle(not_shufled, seed=42) # operation seed  >>> referation seed"
      ],
      "metadata": {
        "colab": {
          "base_uri": "https://localhost:8080/"
        },
        "id": "kht1d6-rfbEq",
        "outputId": "a3254320-05ae-4c12-8f1a-4b196b035918"
      },
      "execution_count": 18,
      "outputs": [
        {
          "output_type": "execute_result",
          "data": {
            "text/plain": [
              "<tf.Tensor: shape=(3, 2), dtype=int32, numpy=\n",
              "array([[10,  7],\n",
              "       [11,  8],\n",
              "       [ 5,  6]], dtype=int32)>"
            ]
          },
          "metadata": {},
          "execution_count": 18
        }
      ]
    },
    {
      "cell_type": "markdown",
      "source": [
        "### Exercise ... test shuffle on random tensor constant in order to get how seed works"
      ],
      "metadata": {
        "id": "HXsJM78hgVJm"
      }
    },
    {
      "cell_type": "code",
      "source": [
        "tens_one = tf.constant([[1,2,4],[1,2,3]])\n",
        "tens_tow = tf.constant([[1,2],[3,4],[5,6]])\n",
        "tens_three = tf.constant([[[1,22],[2,33]],[[3,44],[5,66]]])\n",
        "\n",
        "seed = tf.random.set_seed(18)\n",
        "\n",
        "seed_one = 1\n",
        "seed_tow = 2\n",
        "seed_three = 3"
      ],
      "metadata": {
        "id": "vp7XvwvghIvU"
      },
      "execution_count": 19,
      "outputs": []
    },
    {
      "cell_type": "code",
      "source": [
        "# menage tensors with different seeds\n",
        "\n",
        "tf.random.shuffle(tens_one, seed = seed_one)\n",
        "tf.random.shuffle(tens_tow, seed = seed_tow)\n",
        "tf.random.shuffle(tens_three, seed = seed_three)\n",
        "#tens_one, tens_tow, tens_three  >>>> OUTPUT SENZA SHUFFLE , LE ISTANZE DI TENSOR NON SONO STATE SOVRASCRITTE\n",
        "\n",
        "# RIPROVO UTILIZZANDO NUOVE VARIABILI\n",
        "x = tf.random.shuffle(tens_one, seed = seed_one)\n",
        "y = tf.random.shuffle(tens_tow, seed = seed_tow)\n",
        "z = tf.random.shuffle(tens_three, seed = seed_three)\n",
        "x,y,z"
      ],
      "metadata": {
        "colab": {
          "base_uri": "https://localhost:8080/"
        },
        "id": "tcjDzWyPiZU1",
        "outputId": "0df4b548-3795-4259-e960-fe10bd322ca7"
      },
      "execution_count": 20,
      "outputs": [
        {
          "output_type": "execute_result",
          "data": {
            "text/plain": [
              "(<tf.Tensor: shape=(2, 3), dtype=int32, numpy=\n",
              " array([[1, 2, 3],\n",
              "        [1, 2, 4]], dtype=int32)>,\n",
              " <tf.Tensor: shape=(3, 2), dtype=int32, numpy=\n",
              " array([[1, 2],\n",
              "        [5, 6],\n",
              "        [3, 4]], dtype=int32)>,\n",
              " <tf.Tensor: shape=(2, 2, 2), dtype=int32, numpy=\n",
              " array([[[ 1, 22],\n",
              "         [ 2, 33]],\n",
              " \n",
              "        [[ 3, 44],\n",
              "         [ 5, 66]]], dtype=int32)>)"
            ]
          },
          "metadata": {},
          "execution_count": 20
        }
      ]
    },
    {
      "cell_type": "code",
      "source": [
        "# Notato che sono stati invertivi i livelli superiori !!!!! non toccati gli inferiori\n",
        "\n",
        "# modifico i seed\n",
        "seed_one = 11\n",
        "seed_tow = 22\n",
        "seed_three = 33\n",
        "\n",
        "x = tf.random.shuffle(tens_one, seed = seed_one)\n",
        "y = tf.random.shuffle(tens_tow, seed = seed_tow)\n",
        "z = tf.random.shuffle(tens_three, seed = seed_three)\n",
        "x,y,z"
      ],
      "metadata": {
        "colab": {
          "base_uri": "https://localhost:8080/"
        },
        "id": "RDr-IdkOnaTq",
        "outputId": "88e6a6bc-45a9-4ff6-c8ec-46a4b11cf705"
      },
      "execution_count": 21,
      "outputs": [
        {
          "output_type": "execute_result",
          "data": {
            "text/plain": [
              "(<tf.Tensor: shape=(2, 3), dtype=int32, numpy=\n",
              " array([[1, 2, 3],\n",
              "        [1, 2, 4]], dtype=int32)>,\n",
              " <tf.Tensor: shape=(3, 2), dtype=int32, numpy=\n",
              " array([[3, 4],\n",
              "        [5, 6],\n",
              "        [1, 2]], dtype=int32)>,\n",
              " <tf.Tensor: shape=(2, 2, 2), dtype=int32, numpy=\n",
              " array([[[ 3, 44],\n",
              "         [ 5, 66]],\n",
              " \n",
              "        [[ 1, 22],\n",
              "         [ 2, 33]]], dtype=int32)>)"
            ]
          },
          "metadata": {},
          "execution_count": 21
        }
      ]
    },
    {
      "cell_type": "code",
      "source": [
        "# nothig changed with dubled compile side seed changing\n",
        "# modifico il server-side seed\n",
        "\n",
        "seed = tf.random.set_seed(110)\n",
        "\n",
        "seed_one = 33\n",
        "seed_tow = 22\n",
        "seed_three = 11\n",
        "\n",
        "x = tf.random.shuffle(tens_one, seed = seed_one)\n",
        "y = tf.random.shuffle(tens_tow, seed = seed_tow)\n",
        "z = tf.random.shuffle(tens_three, seed = seed_three)\n",
        "x,y,z"
      ],
      "metadata": {
        "colab": {
          "base_uri": "https://localhost:8080/"
        },
        "id": "qdQGm-MJpFgQ",
        "outputId": "82ad18aa-08d3-428f-cb2b-f95d72aa124e"
      },
      "execution_count": 22,
      "outputs": [
        {
          "output_type": "execute_result",
          "data": {
            "text/plain": [
              "(<tf.Tensor: shape=(2, 3), dtype=int32, numpy=\n",
              " array([[1, 2, 4],\n",
              "        [1, 2, 3]], dtype=int32)>,\n",
              " <tf.Tensor: shape=(3, 2), dtype=int32, numpy=\n",
              " array([[3, 4],\n",
              "        [1, 2],\n",
              "        [5, 6]], dtype=int32)>,\n",
              " <tf.Tensor: shape=(2, 2, 2), dtype=int32, numpy=\n",
              " array([[[ 1, 22],\n",
              "         [ 2, 33]],\n",
              " \n",
              "        [[ 3, 44],\n",
              "         [ 5, 66]]], dtype=int32)>)"
            ]
          },
          "metadata": {},
          "execution_count": 22
        }
      ]
    },
    {
      "cell_type": "code",
      "source": [
        "### otherway  to make tensor\n"
      ],
      "metadata": {
        "id": "W9CCnLIYpuOc"
      },
      "execution_count": 23,
      "outputs": []
    },
    {
      "cell_type": "code",
      "source": [
        "# create a tensor of all 1 ... setting a shape\n",
        "tf.ones(shape=[10,7])"
      ],
      "metadata": {
        "colab": {
          "base_uri": "https://localhost:8080/"
        },
        "id": "XIdNrloqRRx5",
        "outputId": "3cd364fb-a80e-4dbf-c929-544ab9f4cee7"
      },
      "execution_count": 24,
      "outputs": [
        {
          "output_type": "execute_result",
          "data": {
            "text/plain": [
              "<tf.Tensor: shape=(10, 7), dtype=float32, numpy=\n",
              "array([[1., 1., 1., 1., 1., 1., 1.],\n",
              "       [1., 1., 1., 1., 1., 1., 1.],\n",
              "       [1., 1., 1., 1., 1., 1., 1.],\n",
              "       [1., 1., 1., 1., 1., 1., 1.],\n",
              "       [1., 1., 1., 1., 1., 1., 1.],\n",
              "       [1., 1., 1., 1., 1., 1., 1.],\n",
              "       [1., 1., 1., 1., 1., 1., 1.],\n",
              "       [1., 1., 1., 1., 1., 1., 1.],\n",
              "       [1., 1., 1., 1., 1., 1., 1.],\n",
              "       [1., 1., 1., 1., 1., 1., 1.]], dtype=float32)>"
            ]
          },
          "metadata": {},
          "execution_count": 24
        }
      ]
    },
    {
      "cell_type": "code",
      "source": [
        "# create tensor of all 0\n",
        "tf.zeros([11,3])"
      ],
      "metadata": {
        "colab": {
          "base_uri": "https://localhost:8080/"
        },
        "id": "Z4jLLMCnRoad",
        "outputId": "5242742c-15b5-45df-96bf-d7cc68f5c061"
      },
      "execution_count": 25,
      "outputs": [
        {
          "output_type": "execute_result",
          "data": {
            "text/plain": [
              "<tf.Tensor: shape=(11, 3), dtype=float32, numpy=\n",
              "array([[0., 0., 0.],\n",
              "       [0., 0., 0.],\n",
              "       [0., 0., 0.],\n",
              "       [0., 0., 0.],\n",
              "       [0., 0., 0.],\n",
              "       [0., 0., 0.],\n",
              "       [0., 0., 0.],\n",
              "       [0., 0., 0.],\n",
              "       [0., 0., 0.],\n",
              "       [0., 0., 0.],\n",
              "       [0., 0., 0.]], dtype=float32)>"
            ]
          },
          "metadata": {},
          "execution_count": 25
        }
      ]
    },
    {
      "cell_type": "code",
      "source": [
        "# turn numpy_arrays into tensors\n",
        "# tensor can be run much faster in a gpu\n",
        "# Capital for matrix or tensor\n",
        "# non_capital for vector\n",
        "\n",
        "import numpy as np\n",
        "\n",
        "numpay_A = np.arange(1,25, dtype=np.int32)\n",
        "numpay_A"
      ],
      "metadata": {
        "colab": {
          "base_uri": "https://localhost:8080/"
        },
        "id": "UATyr5ljSTic",
        "outputId": "5bafa714-f1f2-4996-f53b-fe14d7045341"
      },
      "execution_count": 26,
      "outputs": [
        {
          "output_type": "execute_result",
          "data": {
            "text/plain": [
              "array([ 1,  2,  3,  4,  5,  6,  7,  8,  9, 10, 11, 12, 13, 14, 15, 16, 17,\n",
              "       18, 19, 20, 21, 22, 23, 24], dtype=int32)"
            ]
          },
          "metadata": {},
          "execution_count": 26
        }
      ]
    },
    {
      "cell_type": "code",
      "source": [
        "# trasformo in un tensore\n",
        "A = tf.constant(numpay_A)\n",
        "A"
      ],
      "metadata": {
        "colab": {
          "base_uri": "https://localhost:8080/"
        },
        "id": "et5CXfE0UiAW",
        "outputId": "11b501fa-3a71-44ff-d931-f205ef9e07c5"
      },
      "execution_count": 27,
      "outputs": [
        {
          "output_type": "execute_result",
          "data": {
            "text/plain": [
              "<tf.Tensor: shape=(24,), dtype=int32, numpy=\n",
              "array([ 1,  2,  3,  4,  5,  6,  7,  8,  9, 10, 11, 12, 13, 14, 15, 16, 17,\n",
              "       18, 19, 20, 21, 22, 23, 24], dtype=int32)>"
            ]
          },
          "metadata": {},
          "execution_count": 27
        }
      ]
    },
    {
      "cell_type": "code",
      "source": [
        "# cambio la forma\n",
        "B = tf.constant(numpay_A, shape =(2,3,4))\n",
        "B"
      ],
      "metadata": {
        "colab": {
          "base_uri": "https://localhost:8080/"
        },
        "id": "cPwKVFOlU1wl",
        "outputId": "92855cfa-518e-4f36-ea15-2f349b37dcea"
      },
      "execution_count": 28,
      "outputs": [
        {
          "output_type": "execute_result",
          "data": {
            "text/plain": [
              "<tf.Tensor: shape=(2, 3, 4), dtype=int32, numpy=\n",
              "array([[[ 1,  2,  3,  4],\n",
              "        [ 5,  6,  7,  8],\n",
              "        [ 9, 10, 11, 12]],\n",
              "\n",
              "       [[13, 14, 15, 16],\n",
              "        [17, 18, 19, 20],\n",
              "        [21, 22, 23, 24]]], dtype=int32)>"
            ]
          },
          "metadata": {},
          "execution_count": 28
        }
      ]
    },
    {
      "cell_type": "code",
      "source": [
        "#errore se non corrispondono tutti gli elementi\n",
        "#C = tf.constant(numpay_A, shape =(2,3,5))\n",
        "#C"
      ],
      "metadata": {
        "id": "Th1SF8BhVDRt"
      },
      "execution_count": 29,
      "outputs": []
    },
    {
      "cell_type": "code",
      "source": [
        "# Run  before from runtime in order to get all the instances"
      ],
      "metadata": {
        "id": "qOYYEOzdVbZd"
      },
      "execution_count": 30,
      "outputs": []
    },
    {
      "cell_type": "markdown",
      "source": [
        "### getting info from tensor\n",
        "* Shape >>>> Lengt of each dimension\n",
        "* Rank >>> number of tensor's dimensions : scalar 0; vector 1; matrix 2;.....\n",
        "* Axis or dimension >>>> A paarticular dimension tensor >>> tensor[0], tens[:,1]\n",
        "* Size >> number of item in tensor tf.size(tensor)"
      ],
      "metadata": {
        "id": "gRtPKxQ9WRAb"
      }
    },
    {
      "cell_type": "code",
      "source": [
        "# creating a rank 4 tensor\n",
        "rank_4_tensor = tf.zeros(shape=(2,3,4,5))\n",
        "rank_4_tensor     #>>>> seems that da sinistra a dx generico particolare"
      ],
      "metadata": {
        "colab": {
          "base_uri": "https://localhost:8080/"
        },
        "id": "6vWipeo-XYrN",
        "outputId": "1a752af4-4bda-4ecc-a895-17ee815d433e"
      },
      "execution_count": 31,
      "outputs": [
        {
          "output_type": "execute_result",
          "data": {
            "text/plain": [
              "<tf.Tensor: shape=(2, 3, 4, 5), dtype=float32, numpy=\n",
              "array([[[[0., 0., 0., 0., 0.],\n",
              "         [0., 0., 0., 0., 0.],\n",
              "         [0., 0., 0., 0., 0.],\n",
              "         [0., 0., 0., 0., 0.]],\n",
              "\n",
              "        [[0., 0., 0., 0., 0.],\n",
              "         [0., 0., 0., 0., 0.],\n",
              "         [0., 0., 0., 0., 0.],\n",
              "         [0., 0., 0., 0., 0.]],\n",
              "\n",
              "        [[0., 0., 0., 0., 0.],\n",
              "         [0., 0., 0., 0., 0.],\n",
              "         [0., 0., 0., 0., 0.],\n",
              "         [0., 0., 0., 0., 0.]]],\n",
              "\n",
              "\n",
              "       [[[0., 0., 0., 0., 0.],\n",
              "         [0., 0., 0., 0., 0.],\n",
              "         [0., 0., 0., 0., 0.],\n",
              "         [0., 0., 0., 0., 0.]],\n",
              "\n",
              "        [[0., 0., 0., 0., 0.],\n",
              "         [0., 0., 0., 0., 0.],\n",
              "         [0., 0., 0., 0., 0.],\n",
              "         [0., 0., 0., 0., 0.]],\n",
              "\n",
              "        [[0., 0., 0., 0., 0.],\n",
              "         [0., 0., 0., 0., 0.],\n",
              "         [0., 0., 0., 0., 0.],\n",
              "         [0., 0., 0., 0., 0.]]]], dtype=float32)>"
            ]
          },
          "metadata": {},
          "execution_count": 31
        }
      ]
    },
    {
      "cell_type": "code",
      "source": [
        "# getting a specifica dimention from a tensor  >>>> tensor[i] ; tensor[:,i]\n",
        "# sembra che prenda la dimensione specifica indicizzata , l'istanza di quella dimensione\n",
        "dim_1 = rank_4_tensor[1]\n",
        "dim_2 = rank_4_tensor[:,1]\n",
        "dim_1, dim_2"
      ],
      "metadata": {
        "colab": {
          "base_uri": "https://localhost:8080/"
        },
        "id": "Xw7K0_5zYFK2",
        "outputId": "5b93d1f9-ed42-4022-c3a6-642aecf5b1f2"
      },
      "execution_count": 32,
      "outputs": [
        {
          "output_type": "execute_result",
          "data": {
            "text/plain": [
              "(<tf.Tensor: shape=(3, 4, 5), dtype=float32, numpy=\n",
              " array([[[0., 0., 0., 0., 0.],\n",
              "         [0., 0., 0., 0., 0.],\n",
              "         [0., 0., 0., 0., 0.],\n",
              "         [0., 0., 0., 0., 0.]],\n",
              " \n",
              "        [[0., 0., 0., 0., 0.],\n",
              "         [0., 0., 0., 0., 0.],\n",
              "         [0., 0., 0., 0., 0.],\n",
              "         [0., 0., 0., 0., 0.]],\n",
              " \n",
              "        [[0., 0., 0., 0., 0.],\n",
              "         [0., 0., 0., 0., 0.],\n",
              "         [0., 0., 0., 0., 0.],\n",
              "         [0., 0., 0., 0., 0.]]], dtype=float32)>,\n",
              " <tf.Tensor: shape=(2, 4, 5), dtype=float32, numpy=\n",
              " array([[[0., 0., 0., 0., 0.],\n",
              "         [0., 0., 0., 0., 0.],\n",
              "         [0., 0., 0., 0., 0.],\n",
              "         [0., 0., 0., 0., 0.]],\n",
              " \n",
              "        [[0., 0., 0., 0., 0.],\n",
              "         [0., 0., 0., 0., 0.],\n",
              "         [0., 0., 0., 0., 0.],\n",
              "         [0., 0., 0., 0., 0.]]], dtype=float32)>)"
            ]
          },
          "metadata": {},
          "execution_count": 32
        }
      ]
    },
    {
      "cell_type": "code",
      "source": [
        "# getting all info\n",
        "rank_4_tensor.ndim, rank_4_tensor.shape, tf.size(rank_4_tensor)"
      ],
      "metadata": {
        "colab": {
          "base_uri": "https://localhost:8080/"
        },
        "id": "hZjoC2YIY-Gl",
        "outputId": "64ca0b83-d836-4b68-c183-59c2a794822f"
      },
      "execution_count": 33,
      "outputs": [
        {
          "output_type": "execute_result",
          "data": {
            "text/plain": [
              "(4, TensorShape([2, 3, 4, 5]), <tf.Tensor: shape=(), dtype=int32, numpy=120>)"
            ]
          },
          "metadata": {},
          "execution_count": 33
        }
      ]
    },
    {
      "cell_type": "code",
      "source": [
        "# 2*3*4*5 == 120\n",
        "\n",
        "\n",
        "#get various attribute of our tensor\n",
        "print(\"Datatype of Tensors : \", rank_4_tensor.dtype)\n",
        "print(\"Rank : \", rank_4_tensor.ndim)\n",
        "print(\"Shape of Tensors : \", rank_4_tensor.shape)\n",
        "print(\"Element in x axis : \", rank_4_tensor.shape[0])\n",
        "print(\"Element in last axis : \", rank_4_tensor.shape[-1]) #bello questo meno uno by python\n",
        "print(\"Size of Tensors : \", tf.size(rank_4_tensor))\n",
        "print(\"Size of Tensors as numpy : \", tf.size(rank_4_tensor).numpy())\n"
      ],
      "metadata": {
        "colab": {
          "base_uri": "https://localhost:8080/"
        },
        "id": "AOn36TE0aKU8",
        "outputId": "d148bfe7-90f9-4cc6-ce33-02bca793812f"
      },
      "execution_count": 34,
      "outputs": [
        {
          "output_type": "stream",
          "name": "stdout",
          "text": [
            "Datatype of Tensors :  <dtype: 'float32'>\n",
            "Rank :  4\n",
            "Shape of Tensors :  (2, 3, 4, 5)\n",
            "Element in x axis :  2\n",
            "Element in last axis :  5\n",
            "Size of Tensors :  tf.Tensor(120, shape=(), dtype=int32)\n",
            "Size of Tensors as numpy :  120\n"
          ]
        }
      ]
    },
    {
      "cell_type": "code",
      "source": [
        "# get first  tow element of each dimension by python list\n",
        "\n",
        "# getting from py list\n",
        "some_list = [1,2,3,4]\n",
        "some_list[:2]\n",
        "\n",
        "#the tensor\n",
        "rank_4_tensor[:2,:2,:2,:2]"
      ],
      "metadata": {
        "id": "-SYNkXzkbWnv",
        "colab": {
          "base_uri": "https://localhost:8080/"
        },
        "outputId": "39e2bc4c-cacd-44fb-aa80-6cb3708fcb64"
      },
      "execution_count": 35,
      "outputs": [
        {
          "output_type": "execute_result",
          "data": {
            "text/plain": [
              "<tf.Tensor: shape=(2, 2, 2, 2), dtype=float32, numpy=\n",
              "array([[[[0., 0.],\n",
              "         [0., 0.]],\n",
              "\n",
              "        [[0., 0.],\n",
              "         [0., 0.]]],\n",
              "\n",
              "\n",
              "       [[[0., 0.],\n",
              "         [0., 0.]],\n",
              "\n",
              "        [[0., 0.],\n",
              "         [0., 0.]]]], dtype=float32)>"
            ]
          },
          "metadata": {},
          "execution_count": 35
        }
      ]
    },
    {
      "cell_type": "code",
      "source": [
        "#get the fir elemnt for each dimention except the final one\n",
        "\n",
        "rank_4_tensor[:1, :1, :1, :]"
      ],
      "metadata": {
        "colab": {
          "base_uri": "https://localhost:8080/"
        },
        "id": "pre57lHLPaid",
        "outputId": "6fde81cb-775d-4175-a3e1-330cf463aac2"
      },
      "execution_count": 36,
      "outputs": [
        {
          "output_type": "execute_result",
          "data": {
            "text/plain": [
              "<tf.Tensor: shape=(1, 1, 1, 5), dtype=float32, numpy=array([[[[0., 0., 0., 0., 0.]]]], dtype=float32)>"
            ]
          },
          "metadata": {},
          "execution_count": 36
        }
      ]
    },
    {
      "cell_type": "markdown",
      "source": [
        "### re_shaping"
      ],
      "metadata": {
        "id": "fysEHClFRI2Y"
      }
    },
    {
      "cell_type": "code",
      "source": [
        "rank2_tensor = tf.constant([[10,7],[1,3]])\n",
        "\n",
        "# Add extra dimention  >>>>> ..., after evry axis\n",
        "\n",
        "rank3_tensor = rank2_tensor[..., tf.newaxis]\n",
        "rank4_ten = tf.expand_dims(rank3_tensor, -1) # 0 per la prima ; -1 per la fine\n",
        "\n",
        "rank3_tensor, rank4_ten"
      ],
      "metadata": {
        "colab": {
          "base_uri": "https://localhost:8080/"
        },
        "id": "h08aqBJtRafI",
        "outputId": "a93ff4e3-fb37-4601-8e0a-b8ae8ee1c19f"
      },
      "execution_count": 37,
      "outputs": [
        {
          "output_type": "execute_result",
          "data": {
            "text/plain": [
              "(<tf.Tensor: shape=(2, 2, 1), dtype=int32, numpy=\n",
              " array([[[10],\n",
              "         [ 7]],\n",
              " \n",
              "        [[ 1],\n",
              "         [ 3]]], dtype=int32)>,\n",
              " <tf.Tensor: shape=(2, 2, 1, 1), dtype=int32, numpy=\n",
              " array([[[[10]],\n",
              " \n",
              "         [[ 7]]],\n",
              " \n",
              " \n",
              "        [[[ 1]],\n",
              " \n",
              "         [[ 3]]]], dtype=int32)>)"
            ]
          },
          "metadata": {},
          "execution_count": 37
        }
      ]
    },
    {
      "cell_type": "markdown",
      "source": [
        "###Manipulating Tensor ___ tensors operations"
      ],
      "metadata": {
        "id": "JM3q2h2wSdKf"
      }
    },
    {
      "cell_type": "code",
      "source": [
        "### Basic operations \"+, - , *, /\""
      ],
      "metadata": {
        "id": "ZY-gkWC2TsBo"
      },
      "execution_count": 38,
      "outputs": []
    },
    {
      "cell_type": "code",
      "source": [
        "tensor = tf.constant([[10,7],[1,3]])\n",
        "tensor + 10  # Adding 10 to each item"
      ],
      "metadata": {
        "colab": {
          "base_uri": "https://localhost:8080/"
        },
        "id": "XPftJru0Twqe",
        "outputId": "ac55b29d-2b68-4f46-d224-68c01ee7d4e2"
      },
      "execution_count": 39,
      "outputs": [
        {
          "output_type": "execute_result",
          "data": {
            "text/plain": [
              "<tf.Tensor: shape=(2, 2), dtype=int32, numpy=\n",
              "array([[20, 17],\n",
              "       [11, 13]], dtype=int32)>"
            ]
          },
          "metadata": {},
          "execution_count": 39
        }
      ]
    },
    {
      "cell_type": "code",
      "source": [
        "# guessing evrione else will work equivalently\n",
        "tf.multiply(tensor, 10) #>>> faster then basic operation\n",
        "tf.divide(tensor, 10)"
      ],
      "metadata": {
        "colab": {
          "base_uri": "https://localhost:8080/"
        },
        "id": "jFLs-5eVURy-",
        "outputId": "196e8dd6-7272-44d2-d2f9-660649a8bb71"
      },
      "execution_count": 40,
      "outputs": [
        {
          "output_type": "execute_result",
          "data": {
            "text/plain": [
              "<tf.Tensor: shape=(2, 2), dtype=float64, numpy=\n",
              "array([[1. , 0.7],\n",
              "       [0.1, 0.3]])>"
            ]
          },
          "metadata": {},
          "execution_count": 40
        }
      ]
    },
    {
      "cell_type": "code",
      "source": [
        "# matrix moltiplication\n",
        "#dot product deve esserci corrispondenza nel numero di elementi che vengono poi moltiplicati uno per uno sommando i prodotti\n",
        "\n",
        "tf.matmul(tensor, tensor)"
      ],
      "metadata": {
        "colab": {
          "base_uri": "https://localhost:8080/"
        },
        "id": "jpAv2WS6VHQl",
        "outputId": "2e67f40c-f4c8-4ba7-8259-87d30c7d4305"
      },
      "execution_count": 41,
      "outputs": [
        {
          "output_type": "execute_result",
          "data": {
            "text/plain": [
              "<tf.Tensor: shape=(2, 2), dtype=int32, numpy=\n",
              "array([[107,  91],\n",
              "       [ 13,  16]], dtype=int32)>"
            ]
          },
          "metadata": {},
          "execution_count": 41
        }
      ]
    },
    {
      "cell_type": "code",
      "source": [
        "#dot product with different shape\n",
        "\n",
        "# rules : ineer dimention must match\n",
        "#       : the resoulting matrix has the shape of outer dimention 3x3 3x2\n",
        "\n",
        "y = tf.constant([[10,7],[1,3],[5,4]])\n",
        "x = tf.constant([[10,7],[1,3],[5,4]])\n",
        "\n",
        "# Let s change the shape of Y\n",
        "yreshaped = tf.reshape(y, shape=(2,3))\n",
        "yreshaped.shape\n"
      ],
      "metadata": {
        "colab": {
          "base_uri": "https://localhost:8080/"
        },
        "id": "0b4IcBGKW6fq",
        "outputId": "e666118f-5d94-486c-9d54-5e613e46e9f2"
      },
      "execution_count": 42,
      "outputs": [
        {
          "output_type": "execute_result",
          "data": {
            "text/plain": [
              "TensorShape([2, 3])"
            ]
          },
          "metadata": {},
          "execution_count": 42
        }
      ]
    },
    {
      "cell_type": "code",
      "source": [
        "tf.matmul(x, yreshaped)"
      ],
      "metadata": {
        "colab": {
          "base_uri": "https://localhost:8080/"
        },
        "id": "qmuypS2vaWX5",
        "outputId": "20ee40b5-bff6-43d2-c2d1-35f7d82d0469"
      },
      "execution_count": 43,
      "outputs": [
        {
          "output_type": "execute_result",
          "data": {
            "text/plain": [
              "<tf.Tensor: shape=(3, 3), dtype=int32, numpy=\n",
              "array([[121, 105,  38],\n",
              "       [ 19,  22,  13],\n",
              "       [ 62,  55,  21]], dtype=int32)>"
            ]
          },
          "metadata": {},
          "execution_count": 43
        }
      ]
    },
    {
      "cell_type": "code",
      "source": [
        "# transpose sostituisce colonne con righe\n",
        "x , tf.transpose(x)"
      ],
      "metadata": {
        "colab": {
          "base_uri": "https://localhost:8080/"
        },
        "id": "RN6tHMz7beUt",
        "outputId": "c617c608-3e4a-4bac-a4a7-f5f5f66d2261"
      },
      "execution_count": 44,
      "outputs": [
        {
          "output_type": "execute_result",
          "data": {
            "text/plain": [
              "(<tf.Tensor: shape=(3, 2), dtype=int32, numpy=\n",
              " array([[10,  7],\n",
              "        [ 1,  3],\n",
              "        [ 5,  4]], dtype=int32)>,\n",
              " <tf.Tensor: shape=(2, 3), dtype=int32, numpy=\n",
              " array([[10,  1,  5],\n",
              "        [ 7,  3,  4]], dtype=int32)>)"
            ]
          },
          "metadata": {},
          "execution_count": 44
        }
      ]
    },
    {
      "cell_type": "code",
      "source": [
        "# reshape sposta gli elementi\n",
        "x, tf.reshape(x,(2,3))"
      ],
      "metadata": {
        "colab": {
          "base_uri": "https://localhost:8080/"
        },
        "id": "GGNR5eArdBbN",
        "outputId": "7ed03c57-0445-4c03-b619-3d6e5e4b02ac"
      },
      "execution_count": 45,
      "outputs": [
        {
          "output_type": "execute_result",
          "data": {
            "text/plain": [
              "(<tf.Tensor: shape=(3, 2), dtype=int32, numpy=\n",
              " array([[10,  7],\n",
              "        [ 1,  3],\n",
              "        [ 5,  4]], dtype=int32)>,\n",
              " <tf.Tensor: shape=(2, 3), dtype=int32, numpy=\n",
              " array([[10,  7,  1],\n",
              "        [ 3,  5,  4]], dtype=int32)>)"
            ]
          },
          "metadata": {},
          "execution_count": 45
        }
      ]
    },
    {
      "cell_type": "code",
      "source": [
        "# tf.tensordot(,, axis) >>> chiede su quale asse eseguire la moltiplicazione\n",
        "\n",
        "# Changing dataType >>> reducing precision from float32(bit) to float(16)\n",
        "\n",
        "D = tf.cast(x, dtype=np.float16)\n",
        "x.dtype, D.dtype"
      ],
      "metadata": {
        "colab": {
          "base_uri": "https://localhost:8080/"
        },
        "id": "OwuqEtocdRY5",
        "outputId": "604c6893-15d8-4eaa-bf62-4deade087840"
      },
      "execution_count": 46,
      "outputs": [
        {
          "output_type": "execute_result",
          "data": {
            "text/plain": [
              "(tf.int32, tf.float16)"
            ]
          },
          "metadata": {},
          "execution_count": 46
        }
      ]
    },
    {
      "cell_type": "markdown",
      "source": [
        "### Aggregating tensors\n",
        "Aggregating tensors = condensing them from multiple values down to a smaller ammount of values"
      ],
      "metadata": {
        "id": "yaNuAfYphj_e"
      }
    },
    {
      "cell_type": "code",
      "source": [
        "# get the absolute values\n",
        "D = tf.constant([-7,-10])\n",
        "\n",
        "Dabs = tf.abs(D)\n",
        "Dabs"
      ],
      "metadata": {
        "colab": {
          "base_uri": "https://localhost:8080/"
        },
        "id": "x_NMj_pxxOoJ",
        "outputId": "cd063995-1ccd-4940-cd03-b3ed5991691a"
      },
      "execution_count": 47,
      "outputs": [
        {
          "output_type": "execute_result",
          "data": {
            "text/plain": [
              "<tf.Tensor: shape=(2,), dtype=int32, numpy=array([ 7, 10], dtype=int32)>"
            ]
          },
          "metadata": {},
          "execution_count": 47
        }
      ]
    },
    {
      "cell_type": "markdown",
      "source": [
        "# Some forms of aggregations\n",
        "* get minimum\n",
        "* get maximum\n",
        "* get the mean of a tensor\n",
        "* get the sum of a tensor\n"
      ],
      "metadata": {
        "id": "lr2ZObPGxivx"
      }
    },
    {
      "cell_type": "code",
      "source": [
        "# new tensor\n",
        "\n",
        "E = tf.constant(np.random.randint(0,100, size = 50))\n",
        "E"
      ],
      "metadata": {
        "colab": {
          "base_uri": "https://localhost:8080/"
        },
        "id": "bry6ppNwyBZG",
        "outputId": "5f0ac24a-bb0b-4d1b-c989-2edbbf3728ec"
      },
      "execution_count": 48,
      "outputs": [
        {
          "output_type": "execute_result",
          "data": {
            "text/plain": [
              "<tf.Tensor: shape=(50,), dtype=int64, numpy=\n",
              "array([ 6, 78, 27, 68, 52, 53, 77, 14, 92, 91, 38, 54, 83, 13,  9, 80, 87,\n",
              "       61, 12, 40, 61, 43, 11, 99, 69, 48, 26, 32,  5, 75, 58,  3, 73,  8,\n",
              "       13, 23,  2, 33, 89, 79, 87, 59, 79, 81, 40, 40, 71, 67, 57, 81])>"
            ]
          },
          "metadata": {},
          "execution_count": 48
        }
      ]
    },
    {
      "cell_type": "code",
      "source": [
        "# find min\n",
        "tf.reduce_min(E)\n",
        "\n",
        "# find stdv\n",
        "import tensorflow_probability as tfp\n",
        ""
      ],
      "metadata": {
        "id": "UKr5uilZyTkY"
      },
      "execution_count": 49,
      "outputs": []
    },
    {
      "cell_type": "code",
      "source": [
        "tfp.stats.variance(E)"
      ],
      "metadata": {
        "colab": {
          "base_uri": "https://localhost:8080/"
        },
        "id": "NHKVgSUIzynW",
        "outputId": "1115b0a0-b1b3-4580-8dcb-820af6cbd590"
      },
      "execution_count": 50,
      "outputs": [
        {
          "output_type": "execute_result",
          "data": {
            "text/plain": [
              "<tf.Tensor: shape=(), dtype=int64, numpy=842>"
            ]
          },
          "metadata": {},
          "execution_count": 50
        }
      ]
    },
    {
      "cell_type": "code",
      "source": [
        "# standar deviation\n",
        "tfp.stats.stddev(tf.cast(E, dtype=tf.float32)), tf.math.reduce_std(tf.cast(E, dtype=tf.float32))"
      ],
      "metadata": {
        "colab": {
          "base_uri": "https://localhost:8080/"
        },
        "id": "tFPQVQ83z42N",
        "outputId": "a6bbc706-1ebe-48e2-bc45-1a0b62c7022b"
      },
      "execution_count": 51,
      "outputs": [
        {
          "output_type": "execute_result",
          "data": {
            "text/plain": [
              "(<tf.Tensor: shape=(), dtype=float32, numpy=29.00442>,\n",
              " <tf.Tensor: shape=(), dtype=float32, numpy=29.00442>)"
            ]
          },
          "metadata": {},
          "execution_count": 51
        }
      ]
    },
    {
      "cell_type": "code",
      "source": [
        "# find the positional maximul and minimul >>> per sceglier gli output a maggiore probabilita\n",
        "\n",
        "# seleziono il seed per riprodurre un output specifico\n",
        "\n",
        "tf.random.set_seed(42)\n",
        "F = tf.random.uniform(shape=[50])\n",
        "F"
      ],
      "metadata": {
        "colab": {
          "base_uri": "https://localhost:8080/"
        },
        "id": "jiEOAZZT0PvE",
        "outputId": "653cfa22-cd0d-4c07-f9a0-b738fcb3a2f8"
      },
      "execution_count": 52,
      "outputs": [
        {
          "output_type": "execute_result",
          "data": {
            "text/plain": [
              "<tf.Tensor: shape=(50,), dtype=float32, numpy=\n",
              "array([0.6645621 , 0.44100678, 0.3528825 , 0.46448255, 0.03366041,\n",
              "       0.68467236, 0.74011743, 0.8724445 , 0.22632635, 0.22319686,\n",
              "       0.3103881 , 0.7223358 , 0.13318717, 0.5480639 , 0.5746088 ,\n",
              "       0.8996835 , 0.00946367, 0.5212307 , 0.6345445 , 0.1993283 ,\n",
              "       0.72942245, 0.54583454, 0.10756552, 0.6767061 , 0.6602763 ,\n",
              "       0.33695042, 0.60141766, 0.21062577, 0.8527372 , 0.44062173,\n",
              "       0.9485276 , 0.23752594, 0.81179297, 0.5263394 , 0.494308  ,\n",
              "       0.21612847, 0.8457197 , 0.8718841 , 0.3083862 , 0.6868038 ,\n",
              "       0.23764038, 0.7817228 , 0.9671384 , 0.06870162, 0.79873943,\n",
              "       0.66028714, 0.5871513 , 0.16461694, 0.7381023 , 0.32054043],\n",
              "      dtype=float32)>"
            ]
          },
          "metadata": {},
          "execution_count": 52
        }
      ]
    },
    {
      "cell_type": "code",
      "source": [
        "#ottengo l'indice del massimo valore\n",
        "tf.argmax(F)"
      ],
      "metadata": {
        "colab": {
          "base_uri": "https://localhost:8080/"
        },
        "id": "szrs7izG2jk8",
        "outputId": "d28693e8-29f1-4b61-d7dd-154833a7780b"
      },
      "execution_count": 53,
      "outputs": [
        {
          "output_type": "execute_result",
          "data": {
            "text/plain": [
              "<tf.Tensor: shape=(), dtype=int64, numpy=42>"
            ]
          },
          "metadata": {},
          "execution_count": 53
        }
      ]
    },
    {
      "cell_type": "code",
      "source": [
        "# ottenere il valore\n",
        "F[tf.argmax(F)], tf.math.reduce_max(F)"
      ],
      "metadata": {
        "colab": {
          "base_uri": "https://localhost:8080/"
        },
        "id": "Q_KzzqEn2xS8",
        "outputId": "a1348289-12f9-46aa-a300-6b3fe579b073"
      },
      "execution_count": 54,
      "outputs": [
        {
          "output_type": "execute_result",
          "data": {
            "text/plain": [
              "(<tf.Tensor: shape=(), dtype=float32, numpy=0.9671384>,\n",
              " <tf.Tensor: shape=(), dtype=float32, numpy=0.9671384>)"
            ]
          },
          "metadata": {},
          "execution_count": 54
        }
      ]
    },
    {
      "cell_type": "code",
      "source": [
        "# Test con una matrice\n",
        "y_mat = tf.constant([[10,7],[1,18],[5,4]])\n",
        "\n",
        "tf.argmax(y_mat)"
      ],
      "metadata": {
        "colab": {
          "base_uri": "https://localhost:8080/"
        },
        "id": "aunCmCDG3QEJ",
        "outputId": "2cf99b99-351e-44b1-8b38-5ceaf57984d4"
      },
      "execution_count": 55,
      "outputs": [
        {
          "output_type": "execute_result",
          "data": {
            "text/plain": [
              "<tf.Tensor: shape=(2,), dtype=int64, numpy=array([0, 1])>"
            ]
          },
          "metadata": {},
          "execution_count": 55
        }
      ]
    },
    {
      "cell_type": "markdown",
      "source": [
        "### squeezing tensor\n",
        "* uniforming by removing each dimentions"
      ],
      "metadata": {
        "id": "tVpMOqQ03z2o"
      }
    },
    {
      "cell_type": "code",
      "source": [
        "X = tf.constant(tf.random.uniform(shape=[72]), shape=(1,3,4,6))\n",
        "X"
      ],
      "metadata": {
        "colab": {
          "base_uri": "https://localhost:8080/"
        },
        "id": "JT4qTFOI4yDW",
        "outputId": "4041ddca-9764-4398-e490-b88b6556e255"
      },
      "execution_count": 56,
      "outputs": [
        {
          "output_type": "execute_result",
          "data": {
            "text/plain": [
              "<tf.Tensor: shape=(1, 3, 4, 6), dtype=float32, numpy=\n",
              "array([[[[0.68789124, 0.48447883, 0.9309944 , 0.252187  , 0.73115396,\n",
              "          0.89256823],\n",
              "         [0.94674826, 0.7493341 , 0.34925628, 0.54718256, 0.26160395,\n",
              "          0.69734323],\n",
              "         [0.11962581, 0.53484344, 0.7148968 , 0.87501776, 0.33967495,\n",
              "          0.17377627],\n",
              "         [0.4418521 , 0.9008261 , 0.13803864, 0.12217975, 0.5754491 ,\n",
              "          0.9417181 ]],\n",
              "\n",
              "        [[0.9186585 , 0.59708476, 0.6109482 , 0.82086265, 0.83269787,\n",
              "          0.8915849 ],\n",
              "         [0.01377225, 0.49807465, 0.57503664, 0.6856195 , 0.75972784,\n",
              "          0.908944  ],\n",
              "         [0.40900218, 0.8765154 , 0.53890026, 0.42733097, 0.401173  ,\n",
              "          0.66623247],\n",
              "         [0.16348064, 0.18220246, 0.97040176, 0.06139731, 0.53034747,\n",
              "          0.9869994 ]],\n",
              "\n",
              "        [[0.4746945 , 0.8646754 , 0.20301068, 0.11448455, 0.35100245,\n",
              "          0.68227184],\n",
              "         [0.18108869, 0.8163481 , 0.65651655, 0.9258256 , 0.2391715 ,\n",
              "          0.8365958 ],\n",
              "         [0.04765272, 0.8007157 , 0.8299267 , 0.14328372, 0.8616878 ,\n",
              "          0.9707202 ],\n",
              "         [0.6779593 , 0.5641242 , 0.62537   , 0.8653159 , 0.16104567,\n",
              "          0.11101365]]]], dtype=float32)>"
            ]
          },
          "metadata": {},
          "execution_count": 56
        }
      ]
    },
    {
      "cell_type": "code",
      "source": [
        "X_sqeezed = tf.squeeze(X)\n",
        "X_sqeezed, X_sqeezed.shape # elimina le dimensioni aventi un solo argomento"
      ],
      "metadata": {
        "colab": {
          "base_uri": "https://localhost:8080/"
        },
        "id": "laQWoTBM5Rtm",
        "outputId": "2eac4cb8-4cbc-45ab-cc43-663b4a0e3fb5"
      },
      "execution_count": 57,
      "outputs": [
        {
          "output_type": "execute_result",
          "data": {
            "text/plain": [
              "(<tf.Tensor: shape=(3, 4, 6), dtype=float32, numpy=\n",
              " array([[[0.68789124, 0.48447883, 0.9309944 , 0.252187  , 0.73115396,\n",
              "          0.89256823],\n",
              "         [0.94674826, 0.7493341 , 0.34925628, 0.54718256, 0.26160395,\n",
              "          0.69734323],\n",
              "         [0.11962581, 0.53484344, 0.7148968 , 0.87501776, 0.33967495,\n",
              "          0.17377627],\n",
              "         [0.4418521 , 0.9008261 , 0.13803864, 0.12217975, 0.5754491 ,\n",
              "          0.9417181 ]],\n",
              " \n",
              "        [[0.9186585 , 0.59708476, 0.6109482 , 0.82086265, 0.83269787,\n",
              "          0.8915849 ],\n",
              "         [0.01377225, 0.49807465, 0.57503664, 0.6856195 , 0.75972784,\n",
              "          0.908944  ],\n",
              "         [0.40900218, 0.8765154 , 0.53890026, 0.42733097, 0.401173  ,\n",
              "          0.66623247],\n",
              "         [0.16348064, 0.18220246, 0.97040176, 0.06139731, 0.53034747,\n",
              "          0.9869994 ]],\n",
              " \n",
              "        [[0.4746945 , 0.8646754 , 0.20301068, 0.11448455, 0.35100245,\n",
              "          0.68227184],\n",
              "         [0.18108869, 0.8163481 , 0.65651655, 0.9258256 , 0.2391715 ,\n",
              "          0.8365958 ],\n",
              "         [0.04765272, 0.8007157 , 0.8299267 , 0.14328372, 0.8616878 ,\n",
              "          0.9707202 ],\n",
              "         [0.6779593 , 0.5641242 , 0.62537   , 0.8653159 , 0.16104567,\n",
              "          0.11101365]]], dtype=float32)>,\n",
              " TensorShape([3, 4, 6]))"
            ]
          },
          "metadata": {},
          "execution_count": 57
        }
      ]
    },
    {
      "cell_type": "code",
      "source": [
        "# One hot encoding >> preparing data\n",
        "### ASSEGNAZIONE DI UN VALORE COME RAPPRESANTAZIONE DI UNO SPECIFICO ITEM (OGGETTO)\n",
        "\n",
        "# CREATING A LIST\n",
        "lista_cazzo = [9,2,3,8]\n",
        "# DEFINISCO LA PROFONDITA PER POTER AVERE UNA LISTA DI VALORI PER OGNI ELEMENTO CHE VOGLIO CODIFICARE\n",
        "depth = 4\n",
        "# IN FINE CODIFICO\n",
        "tf.one_hot(lista_cazzo, depth=depth)"
      ],
      "metadata": {
        "colab": {
          "base_uri": "https://localhost:8080/"
        },
        "id": "NVwcpJnO6IFu",
        "outputId": "2ab9cff6-3279-427c-f91e-683b63310793"
      },
      "execution_count": 58,
      "outputs": [
        {
          "output_type": "execute_result",
          "data": {
            "text/plain": [
              "<tf.Tensor: shape=(4, 4), dtype=float32, numpy=\n",
              "array([[0., 0., 0., 0.],\n",
              "       [0., 0., 1., 0.],\n",
              "       [0., 0., 0., 1.],\n",
              "       [0., 0., 0., 0.]], dtype=float32)>"
            ]
          },
          "metadata": {},
          "execution_count": 58
        }
      ]
    },
    {
      "cell_type": "code",
      "source": [
        "# specificare un valore per on_hot encoding\n",
        "tf.one_hot(lista_cazzo, depth=10, on_value=3, off_value=4)"
      ],
      "metadata": {
        "colab": {
          "base_uri": "https://localhost:8080/"
        },
        "id": "ifZ_JuCQ8Hus",
        "outputId": "d6bb355c-3b35-44dd-b279-01f952c4082c"
      },
      "execution_count": 59,
      "outputs": [
        {
          "output_type": "execute_result",
          "data": {
            "text/plain": [
              "<tf.Tensor: shape=(4, 10), dtype=int32, numpy=\n",
              "array([[4, 4, 4, 4, 4, 4, 4, 4, 4, 3],\n",
              "       [4, 4, 3, 4, 4, 4, 4, 4, 4, 4],\n",
              "       [4, 4, 4, 3, 4, 4, 4, 4, 4, 4],\n",
              "       [4, 4, 4, 4, 4, 4, 4, 4, 3, 4]], dtype=int32)>"
            ]
          },
          "metadata": {},
          "execution_count": 59
        }
      ]
    },
    {
      "cell_type": "markdown",
      "source": [
        "# depth e la profondita del campione dei valori di encoding"
      ],
      "metadata": {
        "id": "wcJpKpJU-NfT"
      }
    },
    {
      "cell_type": "markdown",
      "source": [
        "###Finding Access to gpu"
      ],
      "metadata": {
        "id": "thiewPkG_YQv"
      }
    },
    {
      "cell_type": "code",
      "source": [
        "#returning list of physical devices list\n",
        "tf.config.list_physical_devices(), tf.config.list_physical_devices(\"GPU\")"
      ],
      "metadata": {
        "colab": {
          "base_uri": "https://localhost:8080/"
        },
        "id": "3nr3E_XC_fVI",
        "outputId": "1e339b15-b825-4d4d-9f16-cb84da64d811"
      },
      "execution_count": 60,
      "outputs": [
        {
          "output_type": "execute_result",
          "data": {
            "text/plain": [
              "([PhysicalDevice(name='/physical_device:CPU:0', device_type='CPU'),\n",
              "  PhysicalDevice(name='/physical_device:GPU:0', device_type='GPU')],\n",
              " [PhysicalDevice(name='/physical_device:GPU:0', device_type='GPU')])"
            ]
          },
          "metadata": {},
          "execution_count": 60
        }
      ]
    },
    {
      "cell_type": "code",
      "source": [
        "# check gp detail and CUDA status\n",
        "!nvidia-smi"
      ],
      "metadata": {
        "colab": {
          "base_uri": "https://localhost:8080/"
        },
        "id": "1ZKlC0Ly_z92",
        "outputId": "3fd6225e-2b71-4a66-846a-eb979cc4cc61"
      },
      "execution_count": 61,
      "outputs": [
        {
          "output_type": "stream",
          "name": "stdout",
          "text": [
            "Sat Jul  1 17:54:24 2023       \n",
            "+-----------------------------------------------------------------------------+\n",
            "| NVIDIA-SMI 525.85.12    Driver Version: 525.85.12    CUDA Version: 12.0     |\n",
            "|-------------------------------+----------------------+----------------------+\n",
            "| GPU  Name        Persistence-M| Bus-Id        Disp.A | Volatile Uncorr. ECC |\n",
            "| Fan  Temp  Perf  Pwr:Usage/Cap|         Memory-Usage | GPU-Util  Compute M. |\n",
            "|                               |                      |               MIG M. |\n",
            "|===============================+======================+======================|\n",
            "|   0  Tesla T4            Off  | 00000000:00:04.0 Off |                    0 |\n",
            "| N/A   60C    P0    29W /  70W |    389MiB / 15360MiB |      0%      Default |\n",
            "|                               |                      |                  N/A |\n",
            "+-------------------------------+----------------------+----------------------+\n",
            "                                                                               \n",
            "+-----------------------------------------------------------------------------+\n",
            "| Processes:                                                                  |\n",
            "|  GPU   GI   CI        PID   Type   Process name                  GPU Memory |\n",
            "|        ID   ID                                                   Usage      |\n",
            "|=============================================================================|\n",
            "+-----------------------------------------------------------------------------+\n"
          ]
        }
      ]
    },
    {
      "cell_type": "markdown",
      "source": [
        "### Regression Problems\n",
        "#relazione fra variabili indipendenti e dipendenti\n",
        "* output variablie >>> predizione\n",
        "* variabili indipendenti >>> caratteristiche della variabile"
      ],
      "metadata": {
        "id": "suENmJ5nBVrs"
      }
    },
    {
      "cell_type": "markdown",
      "source": [
        "### Input / Output in a regression model\n",
        "**"
      ],
      "metadata": {
        "id": "2J8Uz-cYDMD5"
      }
    }
  ]
}